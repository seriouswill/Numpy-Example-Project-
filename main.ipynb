{
 "cells": [
  {
   "cell_type": "code",
   "execution_count": 213,
   "metadata": {},
   "outputs": [],
   "source": [
    "import numpy as np\n",
    "import matplotlib_inline as plt"
   ]
  },
  {
   "cell_type": "code",
   "execution_count": 214,
   "metadata": {},
   "outputs": [
    {
     "name": "stdout",
     "output_type": "stream",
     "text": [
      "[ 0  1  2  3  4  5  6  7  8  9 10 11 12 13 14]\n"
     ]
    }
   ],
   "source": [
    "a = np.arange(15)\n",
    "print(a)"
   ]
  },
  {
   "cell_type": "code",
   "execution_count": 215,
   "metadata": {},
   "outputs": [
    {
     "name": "stdout",
     "output_type": "stream",
     "text": [
      "[[ 0  1  2  3  4]\n",
      " [ 5  6  7  8  9]\n",
      " [10 11 12 13 14]]\n"
     ]
    }
   ],
   "source": [
    "a = a.reshape(3, 5)\n",
    "print(a)"
   ]
  },
  {
   "cell_type": "code",
   "execution_count": 216,
   "metadata": {},
   "outputs": [
    {
     "data": {
      "text/plain": [
       "(3, 5)"
      ]
     },
     "execution_count": 216,
     "metadata": {},
     "output_type": "execute_result"
    }
   ],
   "source": [
    "a.shape"
   ]
  },
  {
   "cell_type": "code",
   "execution_count": 217,
   "metadata": {},
   "outputs": [
    {
     "data": {
      "text/plain": [
       "2"
      ]
     },
     "execution_count": 217,
     "metadata": {},
     "output_type": "execute_result"
    }
   ],
   "source": [
    "a.ndim"
   ]
  },
  {
   "cell_type": "code",
   "execution_count": 218,
   "metadata": {},
   "outputs": [
    {
     "data": {
      "text/plain": [
       "'int32'"
      ]
     },
     "execution_count": 218,
     "metadata": {},
     "output_type": "execute_result"
    }
   ],
   "source": [
    "a.dtype.name"
   ]
  },
  {
   "cell_type": "code",
   "execution_count": 219,
   "metadata": {},
   "outputs": [
    {
     "data": {
      "text/plain": [
       "4"
      ]
     },
     "execution_count": 219,
     "metadata": {},
     "output_type": "execute_result"
    }
   ],
   "source": [
    "a.itemsize"
   ]
  },
  {
   "cell_type": "code",
   "execution_count": 220,
   "metadata": {},
   "outputs": [
    {
     "data": {
      "text/plain": [
       "15"
      ]
     },
     "execution_count": 220,
     "metadata": {},
     "output_type": "execute_result"
    }
   ],
   "source": [
    "a.size"
   ]
  },
  {
   "cell_type": "code",
   "execution_count": 221,
   "metadata": {},
   "outputs": [
    {
     "data": {
      "text/plain": [
       "numpy.ndarray"
      ]
     },
     "execution_count": 221,
     "metadata": {},
     "output_type": "execute_result"
    }
   ],
   "source": [
    "type(a)"
   ]
  },
  {
   "cell_type": "code",
   "execution_count": 222,
   "metadata": {},
   "outputs": [],
   "source": [
    "b = np.array([6, 7, 8])"
   ]
  },
  {
   "cell_type": "code",
   "execution_count": 223,
   "metadata": {},
   "outputs": [
    {
     "name": "stdout",
     "output_type": "stream",
     "text": [
      "[0. 0. 0.]\n"
     ]
    }
   ],
   "source": [
    "c = np.zeros(3)\n",
    "print(c)"
   ]
  },
  {
   "cell_type": "code",
   "execution_count": 224,
   "metadata": {},
   "outputs": [
    {
     "data": {
      "text/plain": [
       "array([0., 0., 0., 0., 0., 0., 0., 0., 0., 0.])"
      ]
     },
     "execution_count": 224,
     "metadata": {},
     "output_type": "execute_result"
    }
   ],
   "source": [
    "d = np.zeros(10)\n",
    "d"
   ]
  },
  {
   "cell_type": "code",
   "execution_count": 225,
   "metadata": {},
   "outputs": [
    {
     "name": "stdout",
     "output_type": "stream",
     "text": [
      "[1 2 3 4 5]\n"
     ]
    }
   ],
   "source": [
    "arr = np.array((1, 2, 3, 4, 5))\n",
    "print(arr)"
   ]
  },
  {
   "cell_type": "code",
   "execution_count": 226,
   "metadata": {},
   "outputs": [
    {
     "name": "stdout",
     "output_type": "stream",
     "text": [
      "0\n",
      "1\n",
      "2\n",
      "3\n"
     ]
    }
   ],
   "source": [
    "a = np.array(42)\n",
    "b = np.array([1, 2, 3, 4, 5])\n",
    "c = np.array([[1, 2, 3], [4, 5, 6]])\n",
    "d = np.array([[[1, 2, 3], [4, 5, 6]], [[1, 2, 3], [4, 5, 6]]])\n",
    "\n",
    "print(a.ndim)\n",
    "print(b.ndim)\n",
    "print(c.ndim)\n",
    "print(d.ndim)"
   ]
  },
  {
   "cell_type": "code",
   "execution_count": 227,
   "metadata": {},
   "outputs": [
    {
     "name": "stdout",
     "output_type": "stream",
     "text": [
      "[[1 2 3]\n",
      " [4 5 6]]\n",
      "[[1 2]\n",
      " [3 4]\n",
      " [5 6]]\n",
      "[[1 2]\n",
      " [3 4]\n",
      " [5 6]]\n"
     ]
    }
   ],
   "source": [
    "a=np.array([[1,2,3],[4,5,6]])\n",
    "print(a) # prints original shape\n",
    "\n",
    "a.shape=(3,2)\n",
    "print(a) # prints the array in the new shape\n",
    "\n",
    "b = a.reshape(3,2)\n",
    "print(b) # creates a new arrays reshaped from the original\n"
   ]
  },
  {
   "cell_type": "code",
   "execution_count": 228,
   "metadata": {},
   "outputs": [
    {
     "name": "stdout",
     "output_type": "stream",
     "text": [
      "[ 0.  4.  8. 12. 16. 20.]\n"
     ]
    }
   ],
   "source": [
    "x = np.linspace(0, 20, 6) \n",
    "# creates an array from 0 to 20, with 6 elements (not step!)\n",
    "\n",
    "print(x)"
   ]
  },
  {
   "cell_type": "code",
   "execution_count": 229,
   "metadata": {},
   "outputs": [
    {
     "data": {
      "image/png": "[encoded data removed]",
      "text/plain": [
       "<Figure size 432x288 with 1 Axes>"
      ]
     },
     "metadata": {
      "needs_background": "light"
     },
     "output_type": "display_data"
    }
   ],
   "source": [
    "import matplotlib.pyplot as plt\n",
    "import numpy as np\n",
    "\n",
    "xpoints = np.array([0, 6])\n",
    "ypoints = np.array([0, 250])\n",
    "\n",
    "plt.plot(xpoints, ypoints)\n",
    "plt.show()"
   ]
  },
  {
   "cell_type": "code",
   "execution_count": 230,
   "metadata": {},
   "outputs": [
    {
     "data": {
      "image/png": "[encoded data removed]",
      "text/plain": [
       "<Figure size 432x288 with 1 Axes>"
      ]
     },
     "metadata": {},
     "output_type": "display_data"
    }
   ],
   "source": [
    "import matplotlib.pyplot as plt\n",
    "\n",
    "# Data labels, sizes, and colors are defined:\n",
    "labels = 'Broccoli', 'Chocolate Cake', 'Strawberries', 'Porridge'\n",
    "sizes = [30, 330, 245, 210]\n",
    "colors = ['green', 'brown', 'red', 'grey']\n",
    "\n",
    "# Data is plotted:\n",
    "plt.pie(sizes, labels=labels, colors=colors)\n",
    "\n",
    "plt.axis('equal')\n",
    "plt.title(\"Food Pie Chart\")\n",
    "plt.show()"
   ]
  },
  {
   "cell_type": "code",
   "execution_count": 231,
   "metadata": {},
   "outputs": [
    {
     "data": {
      "image/png": "[encoded data removed]",
      "text/plain": [
       "<Figure size 432x288 with 1 Axes>"
      ]
     },
     "metadata": {
      "needs_background": "light"
     },
     "output_type": "display_data"
    }
   ],
   "source": [
    "import matplotlib.pyplot as plt\n",
    "import numpy as np \n",
    "\n",
    "# Create a Line2D instance with x and y data in sequences xdata, ydata:\n",
    "\n",
    "# x data:\n",
    "people=['Will','Jordan','Liam']\n",
    "\n",
    "# y data:\n",
    "coffee_per_day=[6,3,1.5]\n",
    "\n",
    "plt.bar(people,coffee_per_day)\n",
    "plt.title(\"Coffee's per day\")\n",
    "plt.show()\n",
    "\n"
   ]
  },
  {
   "cell_type": "code",
   "execution_count": null,
   "metadata": {},
   "outputs": [],
   "source": []
  },
  {
   "cell_type": "code",
   "execution_count": 232,
   "metadata": {},
   "outputs": [
    {
     "data": {
      "image/png": "[encoded data removed]",
      "text/plain": [
       "<Figure size 432x288 with 1 Axes>"
      ]
     },
     "metadata": {
      "needs_background": "light"
     },
     "output_type": "display_data"
    }
   ],
   "source": [
    "import numpy as np \n",
    "import matplotlib.pyplot as plt\n",
    "\n",
    "days_of_week = [\"Mon\", \"Tues\", \"Wed\", \"Thurs\", \"Fri\", \"Sat\", \"Sun\"]\n",
    "coffee = np.array([9, 5, 14, 13, 30, 18, 12])\n",
    "days = np.arange(0,len(days_of_week)) # me being daft and calculating the length of the week\n",
    "\n",
    "\n",
    "plt.plot(days, coffee, linestyle='--') \n",
    "\n",
    "plt.title(\"The Mad Amount Of Caffeine Going Into My Poor Body\") \n",
    "\n",
    "# Add Axes Labels and Ticks labels\n",
    "plt.xticks([0, 1, 2, 3, 4, 5, 6],days_of_week)\n",
    "plt.xlabel(\"day of the week\") \n",
    "plt.ylabel(\"coffee's drank\") \n",
    "\n",
    "plt.show()"
   ]
  },
  {
   "cell_type": "code",
   "execution_count": 233,
   "metadata": {},
   "outputs": [],
   "source": [
    "# import numpy as np\n",
    "# from io import StringIO\n",
    "# # read csv\n",
    "\n",
    "\n",
    "# arr = np.genfromtxt(\"./movie_data/TopGenres.csv\", dtype=None, delimiter=',', encoding=\"utf-8-sig\")\n",
    "# # display the array\n",
    "# print(arr)"
   ]
  },
  {
   "cell_type": "code",
   "execution_count": 234,
   "metadata": {},
   "outputs": [
    {
     "name": "stdout",
     "output_type": "stream",
     "text": [
      "['ï»¿RANK', 'GENRES', 'MOVIES', 'TOTAL GROSS', 'AVERAGE GROSS', 'MARKET SHARE']\n",
      "[['1' 'Adventure' '1,102' '$64,529,536,530' '$58,556,748' '27.14%']\n",
      " ['2' 'Action' '1,098' '$49,339,974,493' '$44,936,224' '20.75%']\n",
      " ['3' 'Drama' '5,479' '$35,586,177,269' '$6,495,013' '14.97%']\n",
      " ['4' 'Comedy' '2,418' '$33,687,992,318' '$13,932,172' '14.17%']\n",
      " ['5' 'Thriller/Suspense' '1,186' '$19,810,201,102' '$16,703,374' '8.33%']\n",
      " ['6' 'Horror' '716' '$13,430,378,699' '$18,757,512' '5.65%']\n",
      " ['7' 'Romantic Comedy' '630' '$10,480,124,374' '$16,635,118' '4.41%']\n",
      " ['8' 'Musical' '201' '$4,293,988,317' '$21,363,126' '1.81%']\n",
      " ['9' 'Documentary' '2,415' '$2,519,513,142' '$1,043,277' '1.06%']\n",
      " ['10' 'Black Comedy' '213' '$2,185,433,323' '$10,260,250' '0.92%']]\n"
     ]
    }
   ],
   "source": [
    "# top_genres = np.genfromtxt('./movie_data/TopGenres.csv', delimiter=\",\", skip_header=1)\n",
    "# \n",
    "import numpy as np\n",
    "import matplotlib.pyplot as plt\n",
    "import csv\n",
    "import re\n",
    "\n",
    "with open('./movie_data/TopGenres.csv', 'r') as file:\n",
    "    data = list(csv.reader(file, delimiter=\",\"))\n",
    " \n",
    "headers = data.pop(0)\n",
    "data = np.array(data)\n",
    "\n",
    "print(headers)\n",
    "print(data)"
   ]
  },
  {
   "cell_type": "code",
   "execution_count": 235,
   "metadata": {},
   "outputs": [
    {
     "name": "stdout",
     "output_type": "stream",
     "text": [
      "[64.52953653, 49.339974493, 35.586177269, 33.687992318, 19.810201102, 13.430378699, 10.480124374, 4.293988317, 2.519513142, 2.185433323]\n"
     ]
    },
    {
     "data": {
      "image/png": "[encoded data removed]",
      "text/plain": [
       "<Figure size 432x288 with 1 Axes>"
      ]
     },
     "metadata": {
      "needs_background": "light"
     },
     "output_type": "display_data"
    },
    {
     "data": {
      "image/png": "[encoded data removed]",
      "text/plain": [
       "<Figure size 432x288 with 1 Axes>"
      ]
     },
     "metadata": {
      "needs_background": "light"
     },
     "output_type": "display_data"
    }
   ],
   "source": [
    "\n",
    "genre_list = []\n",
    "for i in data:\n",
    "    genre_list.append(i[1])\n",
    "    \n",
    "total_list = []\n",
    "for i in data:\n",
    "    total_list.append(i[3])\n",
    "\n",
    "int_total = []    \n",
    "for i in total_list:\n",
    "    j = re.sub(r\"[^a-zA-Z0-9 ]\", \"\", i)\n",
    "    j = int(j)\n",
    "    j = j / 1000000000 # make the numbers more easily viewable in plot\n",
    "    int_total.append(j)\n",
    "\n",
    "print(int_total)\n",
    "x = genre_list\n",
    "y = int_total\n",
    "\n",
    "plt.plot(x, y, linestyle='--')\n",
    "plt.ylabel(\"per billion $\")\n",
    "plt.xticks(rotation=45)\n",
    "plt.show()\n",
    "\n",
    "plt.bar(x, y)\n",
    "plt.ylabel(\"per billion $\")\n",
    "plt.title(\"Total dollars grossed in billion USD$\")\n",
    "plt.xticks(rotation=45)\n",
    "plt.show()\n"
   ]
  },
  {
   "cell_type": "code",
   "execution_count": 236,
   "metadata": {},
   "outputs": [
    {
     "name": "stdout",
     "output_type": "stream",
     "text": [
      "[96.203727036, 32.035539746, 29.922660857, 21.724062575, 20.273157911, 18.521260744, 15.715191699, 2.960327207, 0.117574526]\n",
      "[12.927133, 0, 41.329642, 28.621953, 157.156263, 0, 13.374631, 1.19997, 2.799393]\n"
     ]
    },
    {
     "data": {
      "image/png": "[encoded data removed]",
      "text/plain": [
       "<Figure size 432x288 with 1 Axes>"
      ]
     },
     "metadata": {
      "needs_background": "light"
     },
     "output_type": "display_data"
    }
   ],
   "source": [
    "import numpy as np\n",
    "import matplotlib.pyplot as plt\n",
    "import csv\n",
    "import re\n",
    "\n",
    "with open('./movie_data/PopularCreativeTypes.csv', 'r') as file:\n",
    "    data = list(csv.reader(file, delimiter=\",\"))\n",
    " \n",
    "headers = data.pop(0)\n",
    "data = np.array(data)\n",
    "\n",
    "creative_list = []\n",
    "total_list = []\n",
    "average_list = []\n",
    "\n",
    "for i in data:\n",
    "    creative_list.append(i[1])\n",
    "creative_list.pop()\n",
    "    \n",
    "\n",
    "for j in data:\n",
    "    total_list.append(j[3])\n",
    "\n",
    "int_total = []\n",
    "for j in total_list:\n",
    "    if j:\n",
    "        j = re.sub(r\"[^a-zA-Z0-9 ]\", \"\", j)\n",
    "        j = int(j)\n",
    "        j = j / 1000000000 # make the numbers more easily viewable in plot\n",
    "        round(j, 3)\n",
    "        int_total.append(j)\n",
    "    # else:\n",
    "    #     j = \"Missing\"\n",
    "    #     int_total.append(j)\n",
    "\n",
    "missing_list = []\n",
    "int_average = []\n",
    "for k in data:\n",
    "    average_list.append(k[4])\n",
    "for k in average_list:\n",
    "    if k:\n",
    "        k = re.sub(r\"[^a-zA-Z0-9 ]\", \"\", k)\n",
    "        k = int(k)\n",
    "        k = k / 1000000\n",
    "        round(k, 3) # make the numbers more easily viewable in plot\n",
    "        int_average.append(k)\n",
    "    else:\n",
    "        k = 0 # standardizing the data\n",
    "        int_average.append(k)\n",
    "int_average.pop()\n",
    "\n",
    "print(int_total)\n",
    "print(int_average)\n",
    "\n",
    "\n",
    "x = np.array(creative_list)\n",
    "y1 = np.array(int_total)\n",
    "y2 = np.array(int_average)\n",
    "\n",
    "plt.xticks(rotation=90)\n",
    "plt.ylabel(\"Gross in billion $USD\")\n",
    "plt.yticks(np.arange(0, 150, 10))\n",
    "\n",
    "plt.scatter(x, y1)\n",
    "plt.scatter(x, y2)\n",
    "x_line = np.arange(0,9)\n",
    "theta_2 = np.polyfit(x_line, y2, 2)\n",
    "y2_line = theta_2[1] + theta_2[0] * x_line\n",
    "plt.plot(x_line, y2_line, 'y')\n",
    "\n",
    "plt.show()"
   ]
  }
 ],
 "metadata": {
  "interpreter": {
   "hash": "df1d372ad4dcd98d28f777fdfcb11a15efc62e5c21d96b3b49a3e2f21430d69f"
  },
  "kernelspec": {
   "display_name": "Python 3.9.2 64-bit ('VENV': venv)",
   "language": "python",
   "name": "python3"
  },
  "language_info": {
   "codemirror_mode": {
    "name": "ipython",
    "version": 3
   },
   "file_extension": ".py",
   "mimetype": "text/x-python",
   "name": "python",
   "nbconvert_exporter": "python",
   "pygments_lexer": "ipython3",
   "version": "3.9.2"
  },
  "orig_nbformat": 4
 },
 "nbformat": 4,
 "nbformat_minor": 2
}
